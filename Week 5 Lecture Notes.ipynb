{
 "cells": [
  {
   "cell_type": "markdown",
   "metadata": {},
   "source": [
    "<h1> MTH4000 Programming in Python I</h1>\n",
    "<h2> Week 5 Lecture Notes</h2>\n",
    "<h3><em> Dr Matthew Lewis and Prof. Thomas Prellberg </em></h3>\n",
    "\n",
    "<h2> Unusual Uses of Functions </h2>\n",
    "\n",
    "Our discussion of scope highlighted some confusing aspects of variable definitions inside functions.  It shall soon prove to be worth the stress however, when we see some of the 'fringe' cases of function usage in Python.\n",
    "\n",
    "Firstly, it is possible for a function to have no <code><span style=\"color:rgb(0,128,0);font-weight:bold;\">return</span></code> line, in which case no data is returned."
   ]
  },
  {
   "cell_type": "code",
   "execution_count": null,
   "metadata": {},
   "outputs": [],
   "source": [
    "def withholding(data):\n",
    "    sq_data = data**2\n",
    "    \n",
    "withholding(453)"
   ]
  },
  {
   "cell_type": "markdown",
   "metadata": {},
   "source": [
    "We can see that our function <code>withholding</code> accepts a parameter <code>data</code>, computes the square of the value retured to this parameter, and assigns this square to a variable <code>sq_data</code>.  However, with no <code><span style=\"color:rgb(0,128,0);font-weight:bold;\">return</span></code> line, nothing is actually given when the function is called.\n",
    "\n",
    "The computations involved in the function call still took place however.  If these computations had been intensive, then we would have just wasted a lot of computational time and energy for absolutely no reason.  Needless to say, there is no advantage to doing this.\n",
    "\n",
    "There are however, reasons for which a function would not return any data.  These primarily pertain to functions that modify data contained in local variables or external files.  The <code><span style=\"color:rgb(0,136,0);\">print</span></code> function, for instance, modifies a hidden text file beneath a code box, so that it shows any text that has been returned to the function as an argument.  It does not actually return anything, as evidenced by the lack of an <samp><span style=\"color:rgb(216,67,21);\">Out [&nbsp;]:</span></samp> label each time it is run."
   ]
  },
  {
   "cell_type": "code",
   "execution_count": null,
   "metadata": {},
   "outputs": [],
   "source": [
    "print('No Out [ ]: label here.')"
   ]
  },
  {
   "cell_type": "markdown",
   "metadata": {},
   "source": [
    "The best evidence for this is when we try to assign the output of a call to the <code><span style=\"color:rgb(0,136,0);\">print</span></code> function to a variable."
   ]
  },
  {
   "cell_type": "code",
   "execution_count": null,
   "metadata": {},
   "outputs": [],
   "source": [
    "data = print(5)"
   ]
  },
  {
   "cell_type": "markdown",
   "metadata": {},
   "source": [
    "In the call to <code><span style=\"color:rgb(0,136,0);\">print</span></code>, we asked for the value <samp>5</samp> to be printed, which it was.  Nothing was returned from the function though, so what has been assigned to the variable <code>data</code>?"
   ]
  },
  {
   "cell_type": "code",
   "execution_count": null,
   "metadata": {},
   "outputs": [],
   "source": [
    "data"
   ]
  },
  {
   "cell_type": "markdown",
   "metadata": {},
   "source": [
    "Nothing!  In fact, Python has a special object explicitly reserved for when an object has nothing assigned to it, the <code><span style=\"color:rgb(0,128,0);font-weight:bold;\">None</span></code> type.  This is a special object that can only be seen if we really search for it.  Every time a function returns nothing, it is <em>technically</em> returning <code><span style=\"color:rgb(0,128,0);font-weight:bold;\">None</span></code>."
   ]
  },
  {
   "cell_type": "code",
   "execution_count": null,
   "metadata": {},
   "outputs": [],
   "source": [
    "print(data)"
   ]
  },
  {
   "cell_type": "code",
   "execution_count": null,
   "metadata": {},
   "outputs": [],
   "source": [
    "type(data)"
   ]
  },
  {
   "cell_type": "markdown",
   "metadata": {},
   "source": [
    "We may ask why the value <samp>5</samp> is no longer printed when we call <code>data</code>, but remember, the <code><span style=\"color:rgb(0,136,0);\">print</span></code> is no longer being called.  Python will only execute the operations of a function once during the call.  Once the final value has been computed and assigned to a variable, the interpreter no longer cares about the function that produced it.\n",
    "\n",
    "The extreme example of a function that returns nothing is one that <em>does</em> nothing.  In fact, it is possible to construct a Python function that accepts data, does nothing, and returns nothing.  This can be achieved (if \"achieved\" is the right word for this) by using the <code><span style=\"color:rgb(0,128,0);font-weight:bold;\">pass</span></code> keyword."
   ]
  },
  {
   "cell_type": "code",
   "execution_count": null,
   "metadata": {},
   "outputs": [],
   "source": [
    "def empty(data):\n",
    "    pass\n",
    "\n",
    "empty(3.142)"
   ]
  },
  {
   "cell_type": "markdown",
   "metadata": {},
   "source": [
    "Although why anyone would wish to define a function that does nothing remains to be seen.  The <code><span style=\"color:rgb(0,128,0);font-weight:bold;\">pass</span></code> keyword is only ever used in rare situations where the syntax expects code, but the user wants nothing to happen.\n",
    "\n",
    "On the opposite end of the spectrum, it is possible for a function to return data without actually accepting any arguments."
   ]
  },
  {
   "cell_type": "code",
   "execution_count": null,
   "metadata": {},
   "outputs": [],
   "source": [
    "def no_argument_here():\n",
    "    return 'The returned data cannot depend on any input.'\n",
    "\n",
    "no_argument_here()"
   ]
  },
  {
   "cell_type": "markdown",
   "metadata": {},
   "source": [
    "This again, may seem like a waste of time, but it's actually not uncommon to see functions without parameters.  A function may have no parameters if it is to execute a predictable operation on an external piece of data that, for one reason or another, does not need to be specified.\n",
    "\n",
    "Suppose we are building a program that uses a variable <code>count</code> to count the number of times an event has occured.  We could define a function <code>increment</code> that adds one to <code>count</code>."
   ]
  },
  {
   "cell_type": "code",
   "execution_count": null,
   "metadata": {},
   "outputs": [],
   "source": [
    "count = 0\n",
    "# Initialise the counter.\n",
    "\n",
    "def increment():\n",
    "    global count\n",
    "    count = count+1"
   ]
  },
  {
   "cell_type": "markdown",
   "metadata": {},
   "source": [
    "Note that in order for the function to access the globally defined <code>count</code>, we needed to use the <code><span style=\"color:rgb(0,128,0);font-weight:bold;\">global</span></code> keyword.  If we had not, then the interpreter would have attempted to initialise the <code>count</code> variable as a local variable, overwriting the global <code>count</code>.  However, since we need the global <code>count</code> to define the local one, an <samp><span style=\"color:rgb(178,43,49);font-weight:bold;\">UnboundLocalError</span></samp> would be raised.\n",
    "\n",
    "The function <code>increment</code> has no parameters, and therefore accepts no arguments.  It also has no <code><span style=\"color:rgb(0,128,0);font-weight:bold;\">return</span></code> line, and so returns no data.\n",
    "\n",
    "However, if we check the value of the variable <code>count</code>..."
   ]
  },
  {
   "cell_type": "code",
   "execution_count": null,
   "metadata": {},
   "outputs": [],
   "source": [
    "count"
   ]
  },
  {
   "cell_type": "markdown",
   "metadata": {},
   "source": [
    "...we see that it remains unchanged from it's original value.  We now run the function <code>increment</code> and check its effect on <code>count</code>."
   ]
  },
  {
   "cell_type": "code",
   "execution_count": null,
   "metadata": {},
   "outputs": [],
   "source": [
    "increment()\n",
    "\n",
    "count"
   ]
  },
  {
   "cell_type": "markdown",
   "metadata": {},
   "source": [
    "It has been increased by one!  We can run it again to keep increasing the count."
   ]
  },
  {
   "cell_type": "code",
   "execution_count": null,
   "metadata": {},
   "outputs": [],
   "source": [
    "increment()\n",
    "\n",
    "count"
   ]
  },
  {
   "cell_type": "markdown",
   "metadata": {},
   "source": [
    "Each time we call <code>increment</code>, the global variable <code>count</code> will increase by one.\n",
    "\n",
    "A lot of modules require end-users to call functions without arguments, such as the <code>show</code> function in the module <code>matplotlib.pyplot</code>, of which we shall see more later.  The reason is similar to our example, it tells the script to create or modify a set of external data.  In that case, it is the construction of the pop-up window that shows the plot.\n",
    "\n",
    "Finally, a highly-specialised use of functions that relates to the earlier discussion of scope, the use of functions that return other functions.\n",
    "\n",
    "We have seen functions nested inside other functions, but the inner function was called for some fixed input, which meant that the code was completely unnecessary.  If however, we write nested functions in which the inner function is returned as an output, suddenly this can become an interesting use case.\n",
    "\n",
    "Consider the following code that we have seen above."
   ]
  },
  {
   "cell_type": "code",
   "execution_count": null,
   "metadata": {},
   "outputs": [],
   "source": [
    "factor = 2\n",
    "\n",
    "def our_function(parameter):\n",
    "    result = parameter*factor\n",
    "    return result"
   ]
  },
  {
   "cell_type": "markdown",
   "metadata": {},
   "source": [
    "This is simply <code>our_function</code> from earlier, except that we explicitly constructed a global variable <code>factor</code> so that we may easily change the factor by which <code>parameter</code> is multiplied.  This certainly works, as we can see below."
   ]
  },
  {
   "cell_type": "code",
   "execution_count": null,
   "metadata": {},
   "outputs": [],
   "source": [
    "our_function(3.142)"
   ]
  },
  {
   "cell_type": "markdown",
   "metadata": {},
   "source": [
    "However, if we wish to change the factor from <samp>2</samp> to <samp>3</samp>, we have to manually rewrite the code.  This is fine, but suboptimal.\n",
    "\n",
    "Instead, we could construct a function that allows us to select a value of <code>factor</code>, and would then give us a function that would implement <code>our_function</code> for our chosen value.  If we wanted to change the value of <code>factor</code>, we could then simply call the original function with a new argument.  This is done in the box below."
   ]
  },
  {
   "cell_type": "code",
   "execution_count": null,
   "metadata": {},
   "outputs": [],
   "source": [
    "def outer_function(factor):\n",
    "    def inner_function(parameter):\n",
    "        result = parameter*factor\n",
    "        return result\n",
    "    return inner_function"
   ]
  },
  {
   "cell_type": "markdown",
   "metadata": {},
   "source": [
    "The above code box contains nested functions, which we have certainly seen already.  Note however, that the <code><span style=\"color:rgb(0,128,0);font-weight:bold;\">return</span></code> line is not calling the function <code>inner_function</code>, but is <em>returning</em> it as output.\n",
    "\n",
    "This means that when we call the function <code>outer_function</code> for some value of <code>factor</code>, the object returned to us will itself be a function."
   ]
  },
  {
   "cell_type": "code",
   "execution_count": null,
   "metadata": {},
   "outputs": [],
   "source": [
    "outer_function(5)"
   ]
  },
  {
   "cell_type": "markdown",
   "metadata": {},
   "source": [
    "The readout is confusing.  This is because the returned object is a function, and Python normally expects functions to be called with some argument, rather than being returned in and of themselves.  The above is effectively akin to having run the following box."
   ]
  },
  {
   "cell_type": "code",
   "execution_count": null,
   "metadata": {},
   "outputs": [],
   "source": [
    "print"
   ]
  },
  {
   "cell_type": "markdown",
   "metadata": {},
   "source": [
    "It's not wrong, it's perfectly valid code.  But this is not how functions are normally used.\n",
    "\n",
    "Instead, let us assign this returned function to a new variable.  We will then be able to use it as a normal function."
   ]
  },
  {
   "cell_type": "code",
   "execution_count": null,
   "metadata": {},
   "outputs": [],
   "source": [
    "multiply_by_five = outer_function(5)\n",
    "\n",
    "multiply_by_five(4)"
   ]
  },
  {
   "cell_type": "markdown",
   "metadata": {},
   "source": [
    "Let us summarise, <code>outer_function</code> accepts an argument <code>factor</code>, and then creates a new function dependent on this value, and returns it as output.  We then assign this output function to the variable <code>multiply_by_five</code>, at which point we can use it as a normal function."
   ]
  },
  {
   "cell_type": "code",
   "execution_count": null,
   "metadata": {},
   "outputs": [],
   "source": [
    "multiply_by_five(297)"
   ]
  },
  {
   "cell_type": "markdown",
   "metadata": {},
   "source": [
    "Now if we wish to create a function that multiplies by a factor of <samp>67</samp> instead, we can simply call <code>outer_function</code> for this new value of <code>factor</code>."
   ]
  },
  {
   "cell_type": "code",
   "execution_count": null,
   "metadata": {},
   "outputs": [],
   "source": [
    "multiply_by_67 = outer_function(67)\n",
    "\n",
    "multiply_by_67(3)"
   ]
  },
  {
   "cell_type": "markdown",
   "metadata": {},
   "source": [
    "Note that we don't even have to give these intermediary functions a name.  If we only wanted to use them once, we could call the resulting function immediately after the function call that created it."
   ]
  },
  {
   "cell_type": "code",
   "execution_count": null,
   "metadata": {},
   "outputs": [],
   "source": [
    "outer_function(4)(3)\n",
    "\n",
    "# outer_function(4) creates a function that multiplies any input by four.\n",
    "# This resulting function is then called for an input of three."
   ]
  },
  {
   "cell_type": "markdown",
   "metadata": {},
   "source": [
    "These are admittedly fringe cases, but if we are to appreciate how the Python syntax works, then we must be familiar with the fringe cases as well as the everyday ones.\n",
    "\n",
    "There is one more unusual use case for Python functions, it is effectively the reverse of functions that return functions.  Functions that accept other functions as arguments.\n",
    "\n",
    "Remember, Python is dynamically typed, and does not force us to declare what data type a parameter should or should not accept.  The only constraint is that the operations we use in the function definition should be consistent with the type of data we are expecting the function to receive.\n",
    "\n",
    "But there is only one operation that can be applied to functions (other than being assigned to a variable), and that is the operation of being called.  This is done be appending a pair of parentheses to the function name, and writing any arguments inside these parentheses.\n",
    "\n",
    "This means that if we're writing a function that we're expecting to receive other functions as input, then the only operation we can apply to the parameter(s) is the call operation."
   ]
  },
  {
   "cell_type": "code",
   "execution_count": null,
   "metadata": {},
   "outputs": [],
   "source": [
    "def initial_value(f):\n",
    "    val_at_zero = f(0)\n",
    "    return val_at_zero"
   ]
  },
  {
   "cell_type": "markdown",
   "metadata": {},
   "source": [
    "The function <code>initial_value</code> accepts an argument <code>f</code> which is itself a function, in particular a function that accepts a single numerical argument.\n",
    "\n",
    "We can test <code>initial_value</code> by creating some other function <code>f</code> that could be used as input."
   ]
  },
  {
   "cell_type": "code",
   "execution_count": null,
   "metadata": {},
   "outputs": [],
   "source": [
    "def f(x):\n",
    "    return 3*(x**2)+5\n",
    "\n",
    "initial_value(f)"
   ]
  },
  {
   "cell_type": "markdown",
   "metadata": {},
   "source": [
    "We could also test it with functions from elsewhere."
   ]
  },
  {
   "cell_type": "code",
   "execution_count": null,
   "metadata": {},
   "outputs": [],
   "source": [
    "from math import cos\n",
    "\n",
    "initial_value(cos)"
   ]
  },
  {
   "cell_type": "markdown",
   "metadata": {},
   "source": [
    "It would be nice to extend this idea further, but we can already note one inconvenience.  In order to create input data for <code>initial_value</code>, we have to go to the trouble of using <code><span style=\"color:rgb(0,128,0);font-weight:bold;\">def</span></code> blocks, which are cumbersome and cannot be condensed into one line.\n",
    "\n",
    "In the final section on functions, we briefly mention of a syntax that can help us write short functions within a single line.  It uses the <code><span style=\"color:rgb(0,128,0);font-weight:bold;\">lambda</span></code> keyword, and so functions defined this way are called <code><span style=\"color:rgb(0,128,0);font-weight:bold;\">lambda</span></code> functions.\n",
    "\n",
    "<h2> <code><span style=\"color:rgb(0,128,0);font-weight:bold;\">lambda</span></code> Functions </h2>\n",
    "\n",
    "<code><span style=\"color:rgb(0,128,0);font-weight:bold;\">lambda</span></code> functions allow us to construct simple functions within a single line.  An example of the relevant syntax is given below."
   ]
  },
  {
   "cell_type": "code",
   "execution_count": null,
   "metadata": {},
   "outputs": [],
   "source": [
    "double = lambda x: 2*x"
   ]
  },
  {
   "cell_type": "markdown",
   "metadata": {},
   "source": [
    "Note that there is no <code><span style=\"color:rgb(0,128,0);font-weight:bold;\">def</span></code> keyword, and no <code><span style=\"color:rgb(0,128,0);font-weight:bold;\">return</span></code> line.  The only syntactical clue that this is a function definition is the presence of the <code><span style=\"color:rgb(0,128,0);font-weight:bold;\">lambda</span></code> keyword.\n",
    "\n",
    "<code><span style=\"color:rgb(0,128,0);font-weight:bold;\">lambda</span></code> functions begin with the <code><span style=\"color:rgb(0,128,0);font-weight:bold;\">lambda</span></code> keyword, followed by a list of all the parameters the function needs as input (in this case, only <code>x</code>), followed by a colon <code>:</code>, and finally a formula for the returned data (in this case, <code><span style=\"color:rgb(0,136,0);\">2</span><span style=\"color:rgb(170,34,255);font-weight:bold;\">*</span>x</code>).\n",
    "\n",
    "The above code box defines a <code><span style=\"color:rgb(0,128,0);font-weight:bold;\">lambda</span></code> function that accepts a single argument and returns a value that is double that of the input.  This function has been assigned to the variable <code>double</code>, so that it can be easily called in the future."
   ]
  },
  {
   "cell_type": "code",
   "execution_count": null,
   "metadata": {},
   "outputs": [],
   "source": [
    "double(9)"
   ]
  },
  {
   "cell_type": "markdown",
   "metadata": {},
   "source": [
    "We can define a <code><span style=\"color:rgb(0,128,0);font-weight:bold;\">lambda</span></code> function with multiple arguments."
   ]
  },
  {
   "cell_type": "code",
   "execution_count": null,
   "metadata": {},
   "outputs": [],
   "source": [
    "length_3d = lambda x,y,z : (x**2+y**2+z**2)**0.5\n",
    "\n",
    "length_3d(2,10,11)"
   ]
  },
  {
   "cell_type": "markdown",
   "metadata": {},
   "source": [
    "<code><span style=\"color:rgb(0,128,0);font-weight:bold;\">lambda</span></code> functions can accept other data types, such as lists.  Note however, that we are constrained to write these within one line, so we cannot use <code><span style=\"color:rgb(0,128,0);font-weight:bold;\">for</span></code> or <code><span style=\"color:rgb(0,128,0);font-weight:bold;\">while</span></code> loops, though list comprehensions are fine."
   ]
  },
  {
   "cell_type": "code",
   "execution_count": null,
   "metadata": {},
   "outputs": [],
   "source": [
    "length = lambda l : sum([i**2 for i in l])**0.5\n",
    "\n",
    "length([2,3,4,14])"
   ]
  },
  {
   "cell_type": "markdown",
   "metadata": {},
   "source": [
    "The true strength of <code><span style=\"color:rgb(0,128,0);font-weight:bold;\">lambda</span></code> functions however, is that they do not require names in order to be called."
   ]
  },
  {
   "cell_type": "code",
   "execution_count": null,
   "metadata": {},
   "outputs": [],
   "source": [
    "(lambda l : sum([i**2 for i in l])**0.5)([2,3,4,14])\n",
    "\n",
    "# Looks horrible, but this is the same function call as the previous box.\n",
    "# The only difference is that the function was not named here."
   ]
  },
  {
   "cell_type": "markdown",
   "metadata": {},
   "source": [
    "This gives us a great advantage when we are writing functions that we only expect to use once, and would therefore not want to name.\n",
    "\n",
    "Let's return to our <code>initial_value</code> function above.  It accepts any function as input, so long as it uses only a single numerical argument.  Previously, we had to use a <code><span style=\"color:rgb(0,128,0);font-weight:bold;\">def</span></code> block to create such an input function, but now we can create an input function and call <code>initial_value</code> all in one line."
   ]
  },
  {
   "cell_type": "code",
   "execution_count": null,
   "metadata": {},
   "outputs": [],
   "source": [
    "initial_value(lambda x: 3*(x**2)+5)"
   ]
  },
  {
   "cell_type": "markdown",
   "metadata": {},
   "source": [
    "This is fine, but the example is a bit uninspired.  To truly see the power of what we have been discussing, we should construct a function that accepts a function as input, modifies it, and returns the modified function as output.\n",
    "\n",
    "We know that differentiation is an operation that maps a function to another function, so we can implement a function that approximates this process.\n",
    "\n",
    "To do this, we must first state all of the parameters we are expecting to use.  We will need some parameter to accept an input function, which we will call <code>f</code>.  We will also need a parameter to list the step size, which we will call <code>h</code> (in actual differentiation, we would take the limit as this step size approaches zero, but that isn't an option with numerical approximation).\n",
    "\n",
    "This means that our function will have two parameters, <code>f</code>, which can only be called in the body of the function, and <code>h</code> to which we can only apply numerical operations."
   ]
  },
  {
   "cell_type": "code",
   "execution_count": null,
   "metadata": {},
   "outputs": [],
   "source": [
    "x = 3\n",
    "\n",
    "def derivative(f, h):\n",
    "    return (f(x+h)-f(x))/h"
   ]
  },
  {
   "cell_type": "markdown",
   "metadata": {},
   "source": [
    "Looks good, and is certainly a close match for our normal understanding of differentiation.  We should test this by calling it with some arguments.  Remember, we need <code>f</code> to be a function, and <code>h</code> to be some numerical value.  <code>h</code> should be close to zero (since actual differentiation takes the limit as h approaches zero), so we will choose some small float."
   ]
  },
  {
   "cell_type": "code",
   "execution_count": null,
   "metadata": {},
   "outputs": [],
   "source": [
    "f = lambda x : x**2\n",
    "h = 0.001\n",
    "\n",
    "derivative(f, h)"
   ]
  },
  {
   "cell_type": "markdown",
   "metadata": {},
   "source": [
    "It works...sort of.  The current implementation approximates the derivative of a function, but only for $x=3$.  In order to change the value of $x$, we would need to change the value of <code>x</code> in the above box and run the code again.  This is highly inelegant.\n",
    "\n",
    "We have already seen the solution.  It is possible to modify the definition of the function <code>derivative</code> so that it returns another function.  We can then choose let the variable <code>x</code> be a parameter of this returned function, and call it for whatever values we like.\n",
    "\n",
    "Now that we have seen constructions that use the <code><span style=\"color:rgb(0,128,0);font-weight:bold;\">lambda</span></code> keyword, this is even easier than it was before."
   ]
  },
  {
   "cell_type": "code",
   "execution_count": null,
   "metadata": {},
   "outputs": [],
   "source": [
    "def derivative(f, h):\n",
    "    return lambda x: (f(x+h)-f(x))/h"
   ]
  },
  {
   "cell_type": "markdown",
   "metadata": {},
   "source": [
    "This time, we have used a <code><span style=\"color:rgb(0,128,0);font-weight:bold;\">lambda</span></code> function to create a function that accepts an argument <code>x</code> and returns the value of <code>(f(x<span style=\"color:rgb(170,34,255);font-weight:bold;\">+</span>h)<span style=\"color:rgb(170,34,255);font-weight:bold;\">-</span>f(x))<span style=\"color:rgb(170,34,255);font-weight:bold;\">/</span>h</code> for whatever function <code>f</code> and float <code>h</code> was initially returned to the parameters of the <code>derivative</code> function.\n",
    "\n",
    "This <code><span style=\"color:rgb(0,128,0);font-weight:bold;\">lambda</span></code> function is then returned as an output for us to use."
   ]
  },
  {
   "cell_type": "code",
   "execution_count": null,
   "metadata": {},
   "outputs": [],
   "source": [
    "f = lambda x : x**2\n",
    "h = 0.001\n",
    "\n",
    "dfdx = derivative(f, h)"
   ]
  },
  {
   "cell_type": "markdown",
   "metadata": {},
   "source": [
    "We assign the output function to a variable <code>dfdx</code> which should be an approximation of the derivative of the function <code>f</code>.  The function <code>f</code> is an implementation of $x^2$, so in principle, its derivative should be $2x$."
   ]
  },
  {
   "cell_type": "code",
   "execution_count": null,
   "metadata": {},
   "outputs": [],
   "source": [
    "print(dfdx(1))\n",
    "print(dfdx(2))\n",
    "print(dfdx(3))"
   ]
  },
  {
   "cell_type": "markdown",
   "metadata": {},
   "source": [
    "Our code looks to be a success!  Finally, note that if we wish to push <code><span style=\"color:rgb(0,128,0);font-weight:bold;\">lambda</span></code> functions to their limit, every function definition we have done in this section could be reduced to a lambda function.\n",
    "\n",
    "The <code>derivative</code> function used a <code><span style=\"color:rgb(0,128,0);font-weight:bold;\">lambda</span></code> function in its return line, but the entire thing could have been a pair of nested <code><span style=\"color:rgb(0,128,0);font-weight:bold;\">lambda</span></code> functions."
   ]
  },
  {
   "cell_type": "code",
   "execution_count": null,
   "metadata": {},
   "outputs": [],
   "source": [
    "derivative = lambda f, h: (lambda x: (f(x+h)-f(x))/h)"
   ]
  },
  {
   "cell_type": "markdown",
   "metadata": {},
   "source": [
    "The construction of <code>dfdx</code> could have also been done with a <code><span style=\"color:rgb(0,128,0);font-weight:bold;\">lambda</span></code> function in the first argument."
   ]
  },
  {
   "cell_type": "code",
   "execution_count": null,
   "metadata": {},
   "outputs": [],
   "source": [
    "dfdx = derivative(lambda x: x**2, 0.01)\n",
    "\n",
    "dfdx(2)"
   ]
  },
  {
   "cell_type": "markdown",
   "metadata": {},
   "source": [
    "In fact, the whole thing could have been done in a single line."
   ]
  },
  {
   "cell_type": "code",
   "execution_count": null,
   "metadata": {},
   "outputs": [],
   "source": [
    "(lambda f, h: (lambda x: (f(x+h)-f(x))/h))(lambda x: x**2, 0.001)(2)"
   ]
  },
  {
   "cell_type": "markdown",
   "metadata": {},
   "source": [
    "But as we often say, just because we <em>can</em> do something in Python, doesn't always mean that we <em>should</em>!\n",
    "\n",
    "<code><span style=\"color:rgb(0,128,0);font-weight:bold;\">lambda</span></code> functions are a good way of constructing functions that obey simple formulae.  Most of the functions we have seen so far fit into this category, so it's worth asking, how do we build more complicated functions?\n",
    "\n",
    "In particular, how do we build functions that operate differently according to whether a certain condition on the input data has been met?  To do this, we will need to introduce a data type that allows us to assign a value to the truth of a statement, booleans.\n",
    "\n",
    "<h2> Booleans </h2>\n",
    "\n",
    "Boolean values are a type of data that allows us to encode the truth value of certain logical statements.  They can be then be used to give greater control over our scripts, by allowing different pieces of code to run depending on whether a specified condition has been met.\n",
    "\n",
    "Given that the number of integers encoded in Python is bounded only by the memory capacity of our computers, and that the number of possible floats and strings that Python could recognise is so large as to be effectively unbounded, we may wonder how many possible boolean values there are.\n",
    "\n",
    "There are two."
   ]
  },
  {
   "cell_type": "code",
   "execution_count": null,
   "metadata": {},
   "outputs": [],
   "source": [
    "True"
   ]
  },
  {
   "cell_type": "code",
   "execution_count": null,
   "metadata": {},
   "outputs": [],
   "source": [
    "False"
   ]
  },
  {
   "cell_type": "markdown",
   "metadata": {},
   "source": [
    "Note that both of these values are Python keywords, meaning that it is impossible to name a variable <code>True</code> or <code>False</code>.  Python variable names are case sensitive however, so one could name a variable <code>true</code> or <code>false</code> without error."
   ]
  },
  {
   "cell_type": "code",
   "execution_count": null,
   "metadata": {},
   "outputs": [],
   "source": [
    "true = False\n",
    "\n",
    "# This assigns the boolean False to the variable true.\n",
    "# Note: This is intentionally confusing and irritating, don't do this!\n",
    "\n",
    "print(true)"
   ]
  },
  {
   "cell_type": "markdown",
   "metadata": {},
   "source": [
    "We can verify that these keywords define a new type of data by calling the <code><span style=\"color:rgb(0,136,0);\">type</span></code> function."
   ]
  },
  {
   "cell_type": "code",
   "execution_count": null,
   "metadata": {},
   "outputs": [],
   "source": [
    "type(True)"
   ]
  },
  {
   "cell_type": "markdown",
   "metadata": {},
   "source": [
    "As we can see, Python recognises this data type, and uses the shorthand <samp>bool</samp>.\n",
    "\n",
    "We have seen how certain kinds of data can be converted from one type to another.  For instance, it is clear that a tuple can become a list."
   ]
  },
  {
   "cell_type": "code",
   "execution_count": null,
   "metadata": {},
   "outputs": [],
   "source": [
    "list((2, 3, 5, 7))"
   ]
  },
  {
   "cell_type": "markdown",
   "metadata": {},
   "source": [
    "We have seen how an integer can be regarded as a float."
   ]
  },
  {
   "cell_type": "code",
   "execution_count": null,
   "metadata": {},
   "outputs": [],
   "source": [
    "float(3)"
   ]
  },
  {
   "cell_type": "markdown",
   "metadata": {},
   "source": [
    "This also extends to booleans.  Firstly, boolean values have integer representation.  The <code><span style=\"color:rgb(0,128,0);font-weight:bold;\">True</span></code> value is equated to <samp>1</samp>, and the <code><span style=\"color:rgb(0,128,0);font-weight:bold;\">False</span></code> value is equated to <samp>0</samp>."
   ]
  },
  {
   "cell_type": "code",
   "execution_count": null,
   "metadata": {},
   "outputs": [],
   "source": [
    "int(True)"
   ]
  },
  {
   "cell_type": "code",
   "execution_count": null,
   "metadata": {},
   "outputs": [],
   "source": [
    "int(False)"
   ]
  },
  {
   "cell_type": "markdown",
   "metadata": {},
   "source": [
    "The more interesting cases are the reverse.  <em>All</em> objects in Python equate to some boolean value.  The boolean value of a piece of data can be obtained with the built-in <code><span style=\"color:rgb(0,136,0);\">bool</span></code> function."
   ]
  },
  {
   "cell_type": "code",
   "execution_count": null,
   "metadata": {},
   "outputs": [],
   "source": [
    "bool(1)"
   ]
  },
  {
   "cell_type": "code",
   "execution_count": null,
   "metadata": {},
   "outputs": [],
   "source": [
    "bool(0)"
   ]
  },
  {
   "cell_type": "markdown",
   "metadata": {},
   "source": [
    "The general idea is that anything that is null or 'empty' in some sense equates to <code><span style=\"color:rgb(0,128,0);font-weight:bold;\">False</span></code>, while all other values equate to <code><span style=\"color:rgb(0,128,0);font-weight:bold;\">True</span></code>.  So for all numeric values, anything that is zero is <code><span style=\"color:rgb(0,128,0);font-weight:bold;\">False</span></code>, while all non-zero data is <code><span style=\"color:rgb(0,128,0);font-weight:bold;\">True</span></code>."
   ]
  },
  {
   "cell_type": "code",
   "execution_count": null,
   "metadata": {},
   "outputs": [],
   "source": [
    "bool(3.142)"
   ]
  },
  {
   "cell_type": "code",
   "execution_count": null,
   "metadata": {},
   "outputs": [],
   "source": [
    "bool(0.0)"
   ]
  },
  {
   "cell_type": "markdown",
   "metadata": {},
   "source": [
    "The empty list is <code><span style=\"color:rgb(0,128,0);font-weight:bold;\">False</span></code>, while any non-empty list is <code><span style=\"color:rgb(0,128,0);font-weight:bold;\">True.</span></code>."
   ]
  },
  {
   "cell_type": "code",
   "execution_count": null,
   "metadata": {},
   "outputs": [],
   "source": [
    "bool([1, 2, 3])"
   ]
  },
  {
   "cell_type": "code",
   "execution_count": null,
   "metadata": {},
   "outputs": [],
   "source": [
    "bool([])"
   ]
  },
  {
   "cell_type": "markdown",
   "metadata": {},
   "source": [
    "Note that this includes a list that contains only the boolean value <code><span style=\"color:rgb(0,128,0);font-weight:bold;\">False</span></code>."
   ]
  },
  {
   "cell_type": "code",
   "execution_count": null,
   "metadata": {},
   "outputs": [],
   "source": [
    "bool([False])"
   ]
  },
  {
   "cell_type": "markdown",
   "metadata": {},
   "source": [
    "We can even extend this idea to empty and non-empty strings."
   ]
  },
  {
   "cell_type": "code",
   "execution_count": null,
   "metadata": {},
   "outputs": [],
   "source": [
    "bool('This says False, but it is actually True.')"
   ]
  },
  {
   "cell_type": "code",
   "execution_count": null,
   "metadata": {},
   "outputs": [],
   "source": [
    "bool('')"
   ]
  },
  {
   "cell_type": "markdown",
   "metadata": {},
   "source": [
    "The reason we mention this is that occasionally, an operation will anticipate a boolean value, but will instead receive some other piece of data.  In order to proceed, Python will make these kinds of conversions implicitly, and so it is important that we understand what computations are taking place.\n",
    "\n",
    "Since we have now mentioned operations that involve booleans, we will now introduce a new type of operator that handles boolean data.\n",
    "\n",
    "<h2> Logical Operators </h2>\n",
    "\n",
    "We are claiming that <code><span style=\"color:rgb(0,128,0);font-weight:bold;\">True</span></code> and <code><span style=\"color:rgb(0,128,0);font-weight:bold;\">False</span></code> are <em>values</em> in some sense of the word.  This should imply that there are some kinds of operations that can be applied to them.  These are the <b>logical operators</b>, they may look familiar.\n",
    "\n",
    "Most are binary, in the sense that they require a left-hand argument and a right-hand argument, just as with the arithmetic operators <code><span style=\"color:rgb(170,34,255);font-weight:bold;\">+</span></code>, <code><span style=\"color:rgb(170,34,255);font-weight:bold;\">-</span></code>,<code><span style=\"color:rgb(170,34,255);font-weight:bold;\">*</span></code>, <code><span style=\"color:rgb(170,34,255);font-weight:bold;\">/</span></code>, etc.  Unlike the arithmetic operators, Python recognises them all as keywords.\n",
    "\n",
    "There is <code><span style=\"color:rgb(0,128,0);font-weight:bold;\">and</span></code>, which returns <code><span style=\"color:rgb(0,128,0);font-weight:bold;\">True</span></code> if both arguments are <code><span style=\"color:rgb(0,128,0);font-weight:bold;\">True</span></code>, and <code><span style=\"color:rgb(0,128,0);font-weight:bold;\">False</span></code> otherwise."
   ]
  },
  {
   "cell_type": "code",
   "execution_count": null,
   "metadata": {},
   "outputs": [],
   "source": [
    "print(True and True)\n",
    "print(True and False)\n",
    "print(False and True)\n",
    "print(False and False)"
   ]
  },
  {
   "cell_type": "markdown",
   "metadata": {},
   "source": [
    "There is <code><span style=\"color:rgb(0,128,0);font-weight:bold;\">or</span></code>, which returns <code><span style=\"color:rgb(0,128,0);font-weight:bold;\">True</span></code> if either argument is <code><span style=\"color:rgb(0,128,0);font-weight:bold;\">True</span></code>, and <code><span style=\"color:rgb(0,128,0);font-weight:bold;\">False</span></code> otherwise."
   ]
  },
  {
   "cell_type": "code",
   "execution_count": null,
   "metadata": {},
   "outputs": [],
   "source": [
    "print(True or True)\n",
    "print(True or False)\n",
    "print(False or True)\n",
    "print(False or False)"
   ]
  },
  {
   "cell_type": "markdown",
   "metadata": {},
   "source": [
    "The third logical operator is the <code><span style=\"color:rgb(0,128,0);font-weight:bold;\">not</span></code> operator, which returns <code><span style=\"color:rgb(0,128,0);font-weight:bold;\">False</span></code> if the argument is <code><span style=\"color:rgb(0,128,0);font-weight:bold;\">True</span></code>, and <code><span style=\"color:rgb(0,128,0);font-weight:bold;\">True</span></code> if the argument is <code><span style=\"color:rgb(0,128,0);font-weight:bold;\">False</span></code>."
   ]
  },
  {
   "cell_type": "code",
   "execution_count": null,
   "metadata": {},
   "outputs": [],
   "source": [
    "print(not True)\n",
    "print(not False)"
   ]
  },
  {
   "cell_type": "markdown",
   "metadata": {},
   "source": [
    "These operations presumably make sense to anyone who has ever heard of Boolean Algebra or has seen a truth table.  There is a stranger dimension to this though, and it involves a shortcut in the way the interpreter computes the results of these operations.\n",
    "\n",
    "For instance, the value returned by the operation <code>x <span style=\"color:rgb(0,128,0);font-weight:bold;\">and</span> y</code> is computed by checking whether <code>x</code> is <code><span style=\"color:rgb(0,128,0);font-weight:bold;\">False</span></code>.  If it is, then <code>x</code> is returned, otherwise <code>y</code> is returned.\n",
    "\n",
    "This may seem strange, but it makes perfect sense.  After all, if <code>x</code> is <code><span style=\"color:rgb(0,128,0);font-weight:bold;\">False</span></code>, then we know that the operation should return <code><span style=\"color:rgb(0,128,0);font-weight:bold;\">False</span></code>, and so there is no point in even checking <code>y</code>.  Similarly, if <code>x</code> is <code><span style=\"color:rgb(0,128,0);font-weight:bold;\">True</span></code>, then the returned value entirely comes down to the value of <code>y</code>, so the interpreter can just return this value immediately.\n",
    "\n",
    "All makes sense, but for one surprising thing.  This is true, even when <code>x</code> and <code>y</code> are not boolean values.  We have seen above that all data, boolean or otherwise, can be converted to boolean values.  However, when the <code><span style=\"color:rgb(0,128,0);font-weight:bold;\">and</span></code> and <code><span style=\"color:rgb(0,128,0);font-weight:bold;\">or</span></code> operators are applied to non-boolean values, the explicit conversion never takes place."
   ]
  },
  {
   "cell_type": "code",
   "execution_count": null,
   "metadata": {},
   "outputs": [],
   "source": [
    "5 and 7"
   ]
  },
  {
   "cell_type": "markdown",
   "metadata": {},
   "source": [
    "How does this make sense?  We saw above that since neither <code><span style=\"color:rgb(0,136,0);\">5</span></code> nor <code><span style=\"color:rgb(0,136,0);\">7</span></code> are zero, they both equate to <code><span style=\"color:rgb(0,128,0);font-weight:bold;\">True</span></code>.  Per the above reasoning, if the left-hand argument is <code><span style=\"color:rgb(0,128,0);font-weight:bold;\">True</span></code> the right-hand argument is returned without even being checked.  Indeed, it is not even converted to a boolean.  The returned value is still an integer.\n",
    "\n",
    "We can extend this to the <code><span style=\"color:rgb(0,128,0);font-weight:bold;\">or</span></code> operator, which behaves similarly.  This time, upon receiving the computation <code>x <span style=\"color:rgb(0,128,0);font-weight:bold;\">or</span> y</code>, the interpreter checks the boolean value of <code>x</code> and if it is <code><span style=\"color:rgb(0,128,0);font-weight:bold;\">False</span></code>, it returns <code>y</code>.  Otherwise, it returns <code>x</code>.\n",
    "\n",
    "Let's check this for some non-boolean data."
   ]
  },
  {
   "cell_type": "code",
   "execution_count": null,
   "metadata": {},
   "outputs": [],
   "source": [
    "[] or [1, 2, 3]"
   ]
  },
  {
   "cell_type": "markdown",
   "metadata": {},
   "source": [
    "We can even mix types of data."
   ]
  },
  {
   "cell_type": "code",
   "execution_count": null,
   "metadata": {},
   "outputs": [],
   "source": [
    "0 and 'hello'"
   ]
  },
  {
   "cell_type": "markdown",
   "metadata": {},
   "source": [
    "The fun ends at the <code><span style=\"color:rgb(0,128,0);font-weight:bold;\">not</span></code> operator, which does explicitly perform the conversion."
   ]
  },
  {
   "cell_type": "code",
   "execution_count": null,
   "metadata": {},
   "outputs": [],
   "source": [
    "not 1.414"
   ]
  },
  {
   "cell_type": "code",
   "execution_count": null,
   "metadata": {},
   "outputs": [],
   "source": [
    "not []"
   ]
  },
  {
   "cell_type": "markdown",
   "metadata": {},
   "source": [
    "We highlight this only because some developers use such behaviour as a convenient shortcut for their code.  It is not how one should expect to use logical operators in one's code.\n",
    "\n",
    "The alert reader will note that even though <code><span style=\"color:rgb(0,128,0);font-weight:bold;\">and</span></code>, <code><span style=\"color:rgb(0,128,0);font-weight:bold;\">or</span></code> and <code><span style=\"color:rgb(0,128,0);font-weight:bold;\">not</span></code> are operators, they do not show up in <code><span style=\"color:rgb(170,34,255);font-weight:bold;\">purple</span></code>, contradicting the established colour scheme.  This is true (and to be candid, a slight frustration), and the best we can say is all non-logical operators are <code><span style=\"color:rgb(170,34,255);font-weight:bold;\">purple</span></code>.  Thankfully, comparison operators bring us back down to a chromatic terra firma.\n",
    "\n",
    "<h2> Comparison Operators </h2>\n",
    "\n",
    "If there are only two boolean values, and we've listed <em>all</em> possible operations that can be performed with them, then how could they possibly be useful?\n",
    "\n",
    "Boolean values are very infrequently run by being called directly.  Instead, they appear as the result of other computations.  To obtain a boolean value, we must use an operation that can give a <code><span style=\"color:rgb(0,128,0);font-weight:bold;\">True</span></code> or <code><span style=\"color:rgb(0,128,0);font-weight:bold;\">False</span></code> result.  This is most commonly a <b>comparison operation</b>.\n",
    "\n",
    "There are six comparison operators in Python, all of which encode concepts related to equality or inequality.  There is the <b>equality</b> operator <code><span style=\"color:rgb(170,34,255);font-weight:bold;\">==</span></code>.  This operator tests for the equality of two values."
   ]
  },
  {
   "cell_type": "code",
   "execution_count": null,
   "metadata": {},
   "outputs": [],
   "source": [
    "1+1==2"
   ]
  },
  {
   "cell_type": "markdown",
   "metadata": {},
   "source": [
    "Note that the returned result is a boolean value.\n",
    "\n",
    "The equality operator <code><span style=\"color:rgb(170,34,255);font-weight:bold;\">==</span></code> is often confused with the assignment operator <code><span style=\"color:rgb(170,34,255);font-weight:bold;\">=</span></code>.  Remember that a single equals sign means that we're defining (or overwriting) a variable.  It is a choice that we are deliberately making.  Running this operation inside a Python environment does not return <b>anything</b>.\n",
    "\n",
    "A double equals sign means that we're checking for equality.  Running this operation inside a Python environment returns a boolean value, either <code><span style=\"color:rgb(0,128,0);font-weight:bold;\">True</span></code> or <code><span style=\"color:rgb(0,128,0);font-weight:bold;\">False</span></code>."
   ]
  },
  {
   "cell_type": "code",
   "execution_count": null,
   "metadata": {},
   "outputs": [],
   "source": [
    "1+1=3\n",
    "# This doesn't mean anything, and will result in an error.\n",
    "# We cannot assign a value to a fixed piece of data."
   ]
  },
  {
   "cell_type": "code",
   "execution_count": null,
   "metadata": {},
   "outputs": [],
   "source": [
    "1+1==3\n",
    "\n",
    "# This is a valid piece of code.\n",
    "# It is a test for the equality of two values.\n",
    "# It will return a boolean (in this case, False)."
   ]
  },
  {
   "cell_type": "markdown",
   "metadata": {},
   "source": [
    "As with all operators, we can perform these calculations on data contained within variables."
   ]
  },
  {
   "cell_type": "code",
   "execution_count": null,
   "metadata": {},
   "outputs": [],
   "source": [
    "x = 6\n",
    "y = 2*3\n",
    "# These are both assignments.\n",
    "\n",
    "x==y\n",
    "# This is a comparison operation."
   ]
  },
  {
   "cell_type": "markdown",
   "metadata": {},
   "source": [
    "A related comparison operator is the <b>inequality</b> operator <code><span style=\"color:rgb(170,34,255);font-weight:bold;\">!=</span></code>.  This operator returns <code><span style=\"color:rgb(0,128,0);font-weight:bold;\">True</span></code> if two values are not equal, and <code><span style=\"color:rgb(0,128,0);font-weight:bold;\">False</span></code> otherwise."
   ]
  },
  {
   "cell_type": "code",
   "execution_count": null,
   "metadata": {},
   "outputs": [],
   "source": [
    "1+1!=3"
   ]
  },
  {
   "cell_type": "markdown",
   "metadata": {},
   "source": [
    "It should be clear that this operator is logically equivalent to the operation formed by combining the <code><span style=\"color:rgb(0,128,0);font-weight:bold;\">not</span></code> operator with an equality operator <code><span style=\"color:rgb(170,34,255);font-weight:bold;\">==</span></code>."
   ]
  },
  {
   "cell_type": "code",
   "execution_count": null,
   "metadata": {},
   "outputs": [],
   "source": [
    "not 1+1==3"
   ]
  },
  {
   "cell_type": "markdown",
   "metadata": {},
   "source": [
    "This is because the call <code><span style=\"color:rgb(0,136,0);\">1</span><span style=\"color:rgb(170,34,255);font-weight:bold;\">+</span><span style=\"color:rgb(0,136,0);\">1</span><span style=\"color:rgb(170,34,255);font-weight:bold;\">==</span><span style=\"color:rgb(0,136,0);\">3</span></code> returns a value of <code><span style=\"color:rgb(0,128,0);font-weight:bold;\">False</span></code> to the interpreter, and the <code><span style=\"color:rgb(0,128,0);font-weight:bold;\">not</span></code> operator then accepts this as an argument, and returns a value of <code><span style=\"color:rgb(0,128,0);font-weight:bold;\">True</span></code>.\n",
    "\n",
    "We have a <b>greater than</b> operator <code><span style=\"color:rgb(170,34,255);font-weight:bold;\">&gt;</span></code>, which returns <code><span style=\"color:rgb(0,128,0);font-weight:bold;\">True</span></code> if the left-hand argument is greater than the right-hand argument, and <code><span style=\"color:rgb(0,128,0);font-weight:bold;\">False</span></code> otherwise."
   ]
  },
  {
   "cell_type": "code",
   "execution_count": null,
   "metadata": {},
   "outputs": [],
   "source": [
    "31>29"
   ]
  },
  {
   "cell_type": "markdown",
   "metadata": {},
   "source": [
    "It doesn't take much imagination to work out how the similar <b>less than</b> <code><span style=\"color:rgb(170,34,255);font-weight:bold;\">&lt;</span></code> operator behaves."
   ]
  },
  {
   "cell_type": "code",
   "execution_count": null,
   "metadata": {},
   "outputs": [],
   "source": [
    "31<29"
   ]
  },
  {
   "cell_type": "markdown",
   "metadata": {},
   "source": [
    "Our final two comparison operators combine these concepts of equality and inequality.  The first is the <b>greater than or equal to</b> operator <code><span style=\"color:rgb(170,34,255);font-weight:bold;\">&gt;=</span></code>."
   ]
  },
  {
   "cell_type": "code",
   "execution_count": null,
   "metadata": {},
   "outputs": [],
   "source": [
    "31>=29"
   ]
  },
  {
   "cell_type": "markdown",
   "metadata": {},
   "source": [
    "It behaves nearly identically to the <b>greater than</b> operator <code><span style=\"color:rgb(170,34,255);font-weight:bold;\">&gt;</span></code>, but also returns a <code><span style=\"color:rgb(0,128,0);font-weight:bold;\">True</span></code> value in the case of equality."
   ]
  },
  {
   "cell_type": "code",
   "execution_count": null,
   "metadata": {},
   "outputs": [],
   "source": [
    "31>=31"
   ]
  },
  {
   "cell_type": "markdown",
   "metadata": {},
   "source": [
    "We can interpret this operator as being a combination of a <code><span style=\"color:rgb(170,34,255);font-weight:bold;\">&gt;</span></code> operation and a <code><span style=\"color:rgb(170,34,255);font-weight:bold;\">==</span></code> operation, the results of which becomes arguments of an <code><span style=\"color:rgb(0,128,0);font-weight:bold;\">or</span></code> operation."
   ]
  },
  {
   "cell_type": "code",
   "execution_count": null,
   "metadata": {},
   "outputs": [],
   "source": [
    "x = 31\n",
    "y = 29\n",
    "\n",
    "(x>y) or (x==y)"
   ]
  },
  {
   "cell_type": "markdown",
   "metadata": {},
   "source": [
    "Given that for any values <code>x</code> and <code>y</code>, the statement <code>x<span style=\"color:rgb(170,34,255);font-weight:bold;\">&gt;=</span>y</code> is logically equivalent to the negation of <code>x<span style=\"color:rgb(170,34,255);font-weight:bold;\">&lt;</span>y</code>, we can interpret a greater than or equal to operator <code><span style=\"color:rgb(170,34,255);font-weight:bold;\">&gt;=</span></code> as a combination of the <code><span style=\"color:rgb(0,128,0);font-weight:bold;\">not</span></code> and greater than <code><span style=\"color:rgb(170,34,255);font-weight:bold;\">&lt;</span></code> operators."
   ]
  },
  {
   "cell_type": "code",
   "execution_count": null,
   "metadata": {},
   "outputs": [],
   "source": [
    "not x<y"
   ]
  },
  {
   "cell_type": "markdown",
   "metadata": {},
   "source": [
    "The final comparison operator is (unsurprisingly) the <b>less than or equal to</b> operator <code><span style=\"color:rgb(170,34,255);font-weight:bold;\">&lt;=</span></code>.  This returns <code><span style=\"color:rgb(0,128,0);font-weight:bold;\">True</span></code> if the left-hand argument is less than the right-hand argument, or if both arguments are equal.  It returns <code><span style=\"color:rgb(0,128,0);font-weight:bold;\">False</span></code> otherwise."
   ]
  },
  {
   "cell_type": "code",
   "execution_count": null,
   "metadata": {},
   "outputs": [],
   "source": [
    "31<=29"
   ]
  },
  {
   "cell_type": "markdown",
   "metadata": {},
   "source": [
    "Before we discuss the uses of comparison operations, we have a slightly strange addendum to this section.  Just as certain operations, such as addition <code><span style=\"color:rgb(170,34,255);font-weight:bold;\">+</span></code> are defined for non-numeric data, so are comparison operators.\n",
    "\n",
    "The full story is that any time a new data type is created (whether it be created by the Python Software Foundation, a private company, or a single coder working by themselves), the data type can be programmed to behave a certain way with built-in operators.  This means we can't produce and exhaustive list of how <em>all</em> data types behave, but we can at least illustrate the point with an example, lists.\n",
    "\n",
    "The comparison of lists is pretty intuitive in the case of equality <code><span style=\"color:rgb(170,34,255);font-weight:bold;\">=</span></code> and inequality <code><span style=\"color:rgb(170,34,255);font-weight:bold;\">!=</span></code>.  Lists are equal if they have the same number of elements, and the elements at corresponding indices are all individually equal."
   ]
  },
  {
   "cell_type": "code",
   "execution_count": null,
   "metadata": {},
   "outputs": [],
   "source": [
    "l = [2, 3, 5, 7]\n",
    "\n",
    "m = [2, 3*1, 5//1, 3+4]\n",
    "\n",
    "l==m"
   ]
  },
  {
   "cell_type": "markdown",
   "metadata": {},
   "source": [
    "Note that only one of these conditions has to be untrue in order for a value of <code><span style=\"color:rgb(0,128,0);font-weight:bold;\">False</span></code> to be returned."
   ]
  },
  {
   "cell_type": "code",
   "execution_count": null,
   "metadata": {},
   "outputs": [],
   "source": [
    "[1, 2, 3, 4]==[1, 2, 3, 4, 5]\n",
    "\n",
    "# List elements match at indices 0, 1, 2, 3, but only the right-hand list has an entry at index 4."
   ]
  },
  {
   "cell_type": "markdown",
   "metadata": {},
   "source": [
    "Stranger still, Python defines the <code><span style=\"color:rgb(170,34,255);font-weight:bold;\">&gt;</span></code>, <code><span style=\"color:rgb(170,34,255);font-weight:bold;\">&lt;</span></code>,<code><span style=\"color:rgb(170,34,255);font-weight:bold;\">&gt;=</span></code> and <code><span style=\"color:rgb(170,34,255);font-weight:bold;\">&lt;=</span></code> operators for lists.  This is conducted via <b>lexicographical ordering</b>.  If two lists <code>l</code> and <code>m</code> are being compared, then Python checks for a difference in the first elements of each respective list.  If the first element of <code>l</code> is greater than the corresponding element of <code>m</code>, then <code>l</code> is the list with the greater value."
   ]
  },
  {
   "cell_type": "code",
   "execution_count": null,
   "metadata": {},
   "outputs": [],
   "source": [
    "l = [3, 1, 4, 2]\n",
    "\n",
    "m = [1, 4, 1, 4]\n",
    "\n",
    "l>m\n",
    "\n",
    "# The first elements of l and m differ, and since the first element of l is larger, it is the larger list.\n",
    "# The second element of m is larger than the second element of l, but this has no bearing on the final result."
   ]
  },
  {
   "cell_type": "markdown",
   "metadata": {},
   "source": [
    "If however, the first two elements of <code><span style=\"color:rgb(0,136,0);\">l</span></code> and <code><span style=\"color:rgb(0,136,0);\">m</span></code> are equal, then a comparison is made between the respective second elements instead."
   ]
  },
  {
   "cell_type": "code",
   "execution_count": null,
   "metadata": {},
   "outputs": [],
   "source": [
    "l = [3, 1, 4, 2]\n",
    "\n",
    "m = [3, 2, 1]\n",
    "\n",
    "l>m\n",
    "\n",
    "# The first elements of l and m are equal, so the comparison moves on to the second elements.\n",
    "# Since the second element of m is larger than the second element of l, m is the larger list.\n",
    "# Note that m has fewer elements than l, this has no bearing on the final result."
   ]
  },
  {
   "cell_type": "markdown",
   "metadata": {},
   "source": [
    "If all possible element-by-element comparisons result in equality, then the larger list is simply the one with more elements."
   ]
  },
  {
   "cell_type": "code",
   "execution_count": null,
   "metadata": {},
   "outputs": [],
   "source": [
    "l = [3, 1, 4, 2]\n",
    "\n",
    "m = [3, 1, 4]\n",
    "\n",
    "l>m\n",
    "\n",
    "# The elements of l and m at matching indices are all equal.\n",
    "# However, only l has an element at index 3.\n",
    "# l is therefore a longer list, and is considered to be larger than m."
   ]
  },
  {
   "cell_type": "markdown",
   "metadata": {},
   "source": [
    "Finally, if all element-by-element comparisons result in equality, and the two lists are of the same length, then the neither list is greater than the other because (per the definition above) the two lists are equal."
   ]
  },
  {
   "cell_type": "code",
   "execution_count": null,
   "metadata": {},
   "outputs": [],
   "source": [
    "l = [3, 1, 4, 2]\n",
    "\n",
    "m = [3, 1, 4, 2]\n",
    "\n",
    "l>m\n",
    "\n",
    "# The elements of l and m at matching indices are all equal.\n",
    "# l and m are of the same length.\n",
    "# l and m are therefore equal.\n",
    "# This means that neither l nor m is greater than the other."
   ]
  },
  {
   "cell_type": "markdown",
   "metadata": {},
   "source": [
    "As with numeric data, the less than operator <code><span style=\"color:rgb(170,34,255);font-weight:bold;\">&lt;</span></code> can be regarded as the greater than operator in the reverse direction.  That is the comparison <code>l<span style=\"color:rgb(170,34,255);font-weight:bold;\">&lt;</span>m</code> returns <code><span style=\"color:rgb(0,128,0);font-weight:bold;\">True</span></code> if and only if the comparison <code>m<span style=\"color:rgb(170,34,255);font-weight:bold;\">&gt;</span>l</code> (that is, a greater than operation formed by swapping the left and right-hand arguments) returns <code><span style=\"color:rgb(0,128,0);font-weight:bold;\">True</span></code>.\n",
    "\n",
    "Similarly, the <code><span style=\"color:rgb(170,34,255);font-weight:bold;\">&gt;=</span></code> and <code><span style=\"color:rgb(170,34,255);font-weight:bold;\">&lt;=</span></code> can be regarded as the <code><span style=\"color:rgb(170,34,255);font-weight:bold;\">&gt;</span></code> and <code><span style=\"color:rgb(170,34,255);font-weight:bold;\">&lt;</span></code> operators combined via an <code><span style=\"color:rgb(0,128,0);font-weight:bold;\">or</span></code> operation with <code><span style=\"color:rgb(170,34,255);font-weight:bold;\">=</span></code> to also return <code><span style=\"color:rgb(0,128,0);font-weight:bold;\">True</span></code> in the case of equality.\n",
    "\n",
    "Note that this lexicographical ordering is equivalently true for tuples..."
   ]
  },
  {
   "cell_type": "code",
   "execution_count": null,
   "metadata": {},
   "outputs": [],
   "source": [
    "(3, 1, 4, 2) < (3, 2, 1)"
   ]
  },
  {
   "cell_type": "markdown",
   "metadata": {},
   "source": [
    "...but not ranges."
   ]
  },
  {
   "cell_type": "code",
   "execution_count": null,
   "metadata": {},
   "outputs": [],
   "source": [
    "range(1, 10, 2) < range(3, 15, 3)"
   ]
  },
  {
   "cell_type": "markdown",
   "metadata": {},
   "source": [
    "Doubly-irritating is that equality <code><span style=\"color:rgb(170,34,255);font-weight:bold;\">==</span></code> and inequality <code><span style=\"color:rgb(170,34,255);font-weight:bold;\">!=</span></code> operators <em>are</em> defined for ranges."
   ]
  },
  {
   "cell_type": "code",
   "execution_count": null,
   "metadata": {},
   "outputs": [],
   "source": [
    "range(1, 10, 2) == range(1, 10, 2)"
   ]
  },
  {
   "cell_type": "markdown",
   "metadata": {},
   "source": [
    "But this is becoming a little niche.  We now move onto discussing <em>why</em> exactly we wish to be able to check the truth value of statements such as these; control flow.\n",
    "\n",
    "<h2> Control Flow </h2>\n",
    "\n",
    "Control flow refers to the order in which the operations and instructions inside a program are executed.  It determines how the program moves from one operation to another according to whether a certain condition is satisfied.\n",
    "\n",
    "This is exactly why we need booleans.  Booleans encode the truth value of such statements, and their value is used by the program to determine the next line of code that should be executed.  In Python, the key control flow tools are the <code><span style=\"color:rgb(0,128,0);font-weight:bold;\">if</span></code>, <code><span style=\"color:rgb(0,128,0);font-weight:bold;\">elif</span></code> and <code><span style=\"color:rgb(0,128,0);font-weight:bold;\">else</span></code> keywords.\n",
    "\n",
    "<h2> <code><span style=\"color:rgb(0,128,0);font-weight:bold;\">if</span></code>, <code><span style=\"color:rgb(0,128,0);font-weight:bold;\">elif</span></code> and <code><span style=\"color:rgb(0,128,0);font-weight:bold;\">else</span></code> </h2>\n",
    "\n",
    "The <code><span style=\"color:rgb(0,128,0);font-weight:bold;\">if</span></code> keyword allows us to specify a condition, followed by a block of code that is executed only if that condition is met."
   ]
  },
  {
   "cell_type": "code",
   "execution_count": null,
   "metadata": {},
   "outputs": [],
   "source": [
    "x = 17\n",
    "\n",
    "if x==17:\n",
    "    print('x is seventeen.')"
   ]
  },
  {
   "cell_type": "markdown",
   "metadata": {},
   "source": [
    "As we can see, the <code><span style=\"color:rgb(0,128,0);font-weight:bold;\">if</span></code> keyword is immediately followed by a statement that returns a boolean value.  This is then followed by a colon <code>:</code>, which begins a block.  Inside the block, we specify all lines of code that we wish to run if the condition is met.\n",
    "\n",
    "So in this example, the statement <code>x<span style=\"color:rgb(170,34,255);font-weight:bold;\">==</span><span style=\"color:rgb(0,136,0);\">17</span></code> is our condition, since this returns <code><span style=\"color:rgb(0,128,0);font-weight:bold;\">True</span></code>, the code in the block underneath it is run, and the string  <code><span style=\"color:rgb(186,33,33);\">'x is seventeen.'</span></code> is therefore printed.\n",
    "\n",
    "The <code><span style=\"color:rgb(0,128,0);font-weight:bold;\">if</span></code> statement doesn't even have to depend on values assigned to other variables."
   ]
  },
  {
   "cell_type": "code",
   "execution_count": null,
   "metadata": {},
   "outputs": [],
   "source": [
    "if 1+1==2:\n",
    "    print('hello')"
   ]
  },
  {
   "cell_type": "code",
   "execution_count": null,
   "metadata": {},
   "outputs": [],
   "source": [
    "if False:\n",
    "    print('goodbye')"
   ]
  },
  {
   "cell_type": "markdown",
   "metadata": {},
   "source": [
    "We have seen how to get the interpreter to perform operations if a certain condition is met, but what if we wish Python to perform some <em>other</em> sequence of operations if the condition is <em>not</em> met?  This can be achieved with the <code><span style=\"color:rgb(0,128,0);font-weight:bold;\">else</span></code> keyword."
   ]
  },
  {
   "cell_type": "code",
   "execution_count": null,
   "metadata": {},
   "outputs": [],
   "source": [
    "x = 13\n",
    "\n",
    "if x==17:\n",
    "    print('x is seventeen.')\n",
    "else:\n",
    "    print('x is not seventeen.')"
   ]
  },
  {
   "cell_type": "markdown",
   "metadata": {},
   "source": [
    "We have an <code><span style=\"color:rgb(0,128,0);font-weight:bold;\">if</span></code> statement that gives a block of code to be run if the condition <code>x<span style=\"color:rgb(170,34,255);font-weight:bold;\">==</span><span style=\"color:rgb(0,136,0);\">17</span></code> returns <code><span style=\"color:rgb(0,128,0);font-weight:bold;\">True</span></code>, as before.\n",
    "\n",
    "Underneath this block, we have an <code><span style=\"color:rgb(0,128,0);font-weight:bold;\">else</span></code> statement that gives a block of code to be run if the condition inside the <code><span style=\"color:rgb(0,128,0);font-weight:bold;\">if</span></code> statement returns <code><span style=\"color:rgb(0,128,0);font-weight:bold;\">False</span></code>.\n",
    "\n",
    "<code><span style=\"color:rgb(0,128,0);font-weight:bold;\">if</span></code> statements can exist on their own, but <code><span style=\"color:rgb(0,128,0);font-weight:bold;\">else</span></code> statements can <em>only</em> follow <code><span style=\"color:rgb(0,128,0);font-weight:bold;\">if</span></code> blocks.  An <code><span style=\"color:rgb(0,128,0);font-weight:bold;\">else</span></code> block is run if and only if the previous <code><span style=\"color:rgb(0,128,0);font-weight:bold;\">if</span></code> block was not run.\n",
    "\n",
    "In the example above, the <code><span style=\"color:rgb(0,128,0);font-weight:bold;\">if</span></code> block was not run (as <code>x</code> was not equal to <samp>17</samp>, and so the condition returned <code><span style=\"color:rgb(0,128,0);font-weight:bold;\">False</span></code>), the code in the <code><span style=\"color:rgb(0,128,0);font-weight:bold;\">else</span></code> block was run instead.\n",
    "\n",
    "The final control flow tool is the <code><span style=\"color:rgb(0,128,0);font-weight:bold;\">elif</span></code> keyword.  An <code><span style=\"color:rgb(0,128,0);font-weight:bold;\">elif</span></code> statement gives an alternative condition that can be checked if the original <code><span style=\"color:rgb(0,128,0);font-weight:bold;\">if</span></code> statement returned <code><span style=\"color:rgb(0,128,0);font-weight:bold;\">False</span></code>."
   ]
  },
  {
   "cell_type": "code",
   "execution_count": null,
   "metadata": {},
   "outputs": [],
   "source": [
    "x = 13\n",
    "\n",
    "if x==17:\n",
    "    print('x is seventeen.')\n",
    "elif x==13:\n",
    "    print('x is actually thirteen.')\n",
    "else:\n",
    "    print('x is neither thirteen nor seventeen.')"
   ]
  },
  {
   "cell_type": "markdown",
   "metadata": {},
   "source": [
    "An <code><span style=\"color:rgb(0,128,0);font-weight:bold;\">elif</span></code> block is run if the previous <code><span style=\"color:rgb(0,128,0);font-weight:bold;\">if</span></code> block was not run, and the condition in the <code><span style=\"color:rgb(0,128,0);font-weight:bold;\">elif</span></code> statement returns <code><span style=\"color:rgb(0,128,0);font-weight:bold;\">True</span></code>.\n",
    "\n",
    "In the example above, the <code><span style=\"color:rgb(0,128,0);font-weight:bold;\">if</span></code> block was not run, and so the interpreter moved on to the <code><span style=\"color:rgb(0,128,0);font-weight:bold;\">elif</span></code> statement to check that condition.  The value of <code>x</code> was indeed <samp>13</samp> and so the condition returned <code><span style=\"color:rgb(0,128,0);font-weight:bold;\">True</span></code>, meaning the code inside the <code><span style=\"color:rgb(0,128,0);font-weight:bold;\">elif</span></code> was run.\n",
    "\n",
    "Since the code inside the <code><span style=\"color:rgb(0,128,0);font-weight:bold;\">elif</span></code> block was run, the condition in the <code><span style=\"color:rgb(0,128,0);font-weight:bold;\">else</span></code> statement is not checked, and the code is skipped over.\n",
    "\n",
    "We may ask why we need <code><span style=\"color:rgb(0,128,0);font-weight:bold;\">elif</span></code> statements, if <code><span style=\"color:rgb(0,128,0);font-weight:bold;\">else</span></code> statements play a similar role in the code.  The advantage is that several <code><span style=\"color:rgb(0,128,0);font-weight:bold;\">elif</span></code> statements can be used consecutively, whereas each <code><span style=\"color:rgb(0,128,0);font-weight:bold;\">if</span></code> statement can only be followed by a single <code><span style=\"color:rgb(0,128,0);font-weight:bold;\">else</span></code>."
   ]
  },
  {
   "cell_type": "code",
   "execution_count": null,
   "metadata": {},
   "outputs": [],
   "source": [
    "x = 19\n",
    "\n",
    "if x==17:\n",
    "    print('x is seventeen.')\n",
    "elif x==13:\n",
    "    print('x is actually thirteen.')\n",
    "elif x==11:\n",
    "    print('x is actually eleven.')\n",
    "else:\n",
    "    print('x is neither thirteen nor seventeen, and definitely not eleven.')"
   ]
  },
  {
   "cell_type": "markdown",
   "metadata": {},
   "source": [
    "This saves us from having to nest <code><span style=\"color:rgb(0,128,0);font-weight:bold;\">if</span></code> statements inside <code><span style=\"color:rgb(0,128,0);font-weight:bold;\">else</span></code> statements, which would be confusing (albeit valid) code."
   ]
  },
  {
   "cell_type": "code",
   "execution_count": null,
   "metadata": {},
   "outputs": [],
   "source": [
    "x = 19\n",
    "\n",
    "if x==17:\n",
    "    print('x is seventeen.')\n",
    "else:\n",
    "    if x==13:\n",
    "        print('x is actually thirteen.')\n",
    "    else:\n",
    "        if x==11:\n",
    "            print('x is actually eleven.')\n",
    "        else:\n",
    "            print('x is neither thirteen nor seventeen, and definitely not eleven.')\n",
    "            \n",
    "# This code functions exactly the same as the code in the previous box.\n",
    "# This confusing mess can be avoided by using the elif keyword."
   ]
  },
  {
   "cell_type": "markdown",
   "metadata": {},
   "source": [
    "As with <code><span style=\"color:rgb(0,128,0);font-weight:bold;\">else</span></code> statements, each <code><span style=\"color:rgb(0,128,0);font-weight:bold;\">elif</span></code> statement must follow a <code><span style=\"color:rgb(0,128,0);font-weight:bold;\">if</span></code> block, otherwise it is invalid.\n",
    "\n",
    "We are not required however, to follow any <code><span style=\"color:rgb(0,128,0);font-weight:bold;\">elif</span></code> blocks with a final <code><span style=\"color:rgb(0,128,0);font-weight:bold;\">else</span></code> statement (although this is generally good practice, in case of any unanticipated cases that we have not accounted for)."
   ]
  },
  {
   "cell_type": "code",
   "execution_count": null,
   "metadata": {},
   "outputs": [],
   "source": [
    "x = 19\n",
    "\n",
    "if x==17:\n",
    "    print('x is seventeen.')\n",
    "elif x==13:\n",
    "    print('x is actually thirteen.')\n",
    "elif x==11:\n",
    "    print('x is actually eleven.')\n",
    "\n",
    "# This code is fine, but nothing happens if all conditions return False.\n",
    "# Hence, this box returns nothing."
   ]
  },
  {
   "cell_type": "markdown",
   "metadata": {},
   "source": [
    "This is functionally the same as including a final <code><span style=\"color:rgb(0,128,0);font-weight:bold;\">else</span></code> statement with the <code><span style=\"color:rgb(0,128,0);font-weight:bold;\">pass</span></code> keyword we saw earlier."
   ]
  },
  {
   "cell_type": "code",
   "execution_count": null,
   "metadata": {},
   "outputs": [],
   "source": [
    "x = 19\n",
    "\n",
    "if x==17:\n",
    "    print('x is seventeen.')\n",
    "elif x==13:\n",
    "    print('x is actually thirteen.')\n",
    "elif x==11:\n",
    "    print('x is actually eleven.')\n",
    "else:\n",
    "    pass\n",
    "\n",
    "# No more useful than the previous box, and takes up more room.\n",
    "# The interpreter recognises no difference between this and the code above."
   ]
  },
  {
   "cell_type": "markdown",
   "metadata": {},
   "source": [
    "Generally though, it's nice to include a final <code><span style=\"color:rgb(0,128,0);font-weight:bold;\">else</span></code> statement as a 'catch-all' for cases that were not picked up by the other conditions.\n",
    "\n",
    "Remember, just like all other blocks we have already seen, <code><span style=\"color:rgb(0,128,0);font-weight:bold;\">if</span></code>, <code><span style=\"color:rgb(0,128,0);font-weight:bold;\">elif</span></code> and <code><span style=\"color:rgb(0,128,0);font-weight:bold;\">else</span></code> blocks can be nested inside any other kind of block, including <code><span style=\"color:rgb(0,128,0);font-weight:bold;\">for</span></code> loops, <code><span style=\"color:rgb(0,128,0);font-weight:bold;\">while</span></code> loops and function <code><span style=\"color:rgb(0,128,0);font-weight:bold;\">def</span></code>initions."
   ]
  },
  {
   "cell_type": "code",
   "execution_count": null,
   "metadata": {},
   "outputs": [],
   "source": [
    "for i in range(10):\n",
    "    if i%3==0:\n",
    "        print(i, 'is divisible by three.')\n",
    "    else:\n",
    "        print(i, 'is not divisibly by three.')\n",
    "        \n",
    "# Just remember to keep the indentation consistent!\n",
    "# One indentation for all lines inside the for loop.\n",
    "# A second indentation for all lines inside the if block and the else block."
   ]
  },
  {
   "cell_type": "markdown",
   "metadata": {},
   "source": [
    "As a final note, we remind ourselves that the conditions in the <code><span style=\"color:rgb(0,128,0);font-weight:bold;\">if</span></code>, <code><span style=\"color:rgb(0,128,0);font-weight:bold;\">elif</span></code> and <code><span style=\"color:rgb(0,128,0);font-weight:bold;\">else</span></code> statements simply have to be computations that result in a boolean value.  This means we can write conditions that use logical operations such as <code><span style=\"color:rgb(0,128,0);font-weight:bold;\">and</span></code> and <code><span style=\"color:rgb(0,128,0);font-weight:bold;\">or</span></code>."
   ]
  },
  {
   "cell_type": "code",
   "execution_count": null,
   "metadata": {},
   "outputs": [],
   "source": [
    "x = 17\n",
    "\n",
    "if (x==17 or x==13) or x==11:\n",
    "    print('x is either seventeen, thirteen or eleven.')\n",
    "elif x>=10 and x<=18:\n",
    "    print('x is between ten and eighteen, and is not prime.')\n",
    "elif x<10:\n",
    "    print('x is less than ten.')\n",
    "else:\n",
    "    print('x is greater than eighteen.')"
   ]
  },
  {
   "cell_type": "markdown",
   "metadata": {},
   "source": [
    "<code><span style=\"color:rgb(0,128,0);font-weight:bold;\">if</span></code>, <code><span style=\"color:rgb(0,128,0);font-weight:bold;\">elif</span></code> and <code><span style=\"color:rgb(0,128,0);font-weight:bold;\">else</span></code> statements give us greater control over the operations and instructions that are carried out by the interpreter."
   ]
  },
  {
   "cell_type": "markdown",
   "metadata": {},
   "source": [
    "<h2> Conclusion and Outlook </h2>\n",
    "\n",
    "<ul>\n",
    "    <li> Python functions can be defined to accept no arguments, and return no values.</li>\n",
    "    <li> Python functions can be defined to accept functions as input, and return functions as output.</li>\n",
    "    <li> The <code><span style=\"color:rgb(0,128,0);font-weight:bold;\">lambda</span></code> keyword allows us to define functions without giving them names.  These are usually used to quickly modify data, or as arguments for other functions. </li>\n",
    "    <li> Python encodes the truth value of logical statements by using booleans.  There are only two pieces of boolean data, <code><span style=\"color:rgb(0,128,0);font-weight:bold;\">True</span></code> and <code><span style=\"color:rgb(0,128,0);font-weight:bold;\">False</span></code>.</li>\n",
    "    <li> Boolean data can be subjected to logical operators such as <code><span style=\"color:rgb(0,128,0);font-weight:bold;\">and</span></code>, <code><span style=\"color:rgb(0,128,0);font-weight:bold;\">or</span></code> and <code><span style=\"color:rgb(0,128,0);font-weight:bold;\">not</span></code>, the results of which will be other booleans.</li>\n",
    "    <li> Comparison operators allow us to evaluate the truth value of arithmetical statements.  Lexicographical ordering generalises these comparisons for strings, lists and tuples.</li>\n",
    "    <li> The <code><span style=\"color:rgb(0,128,0);font-weight:bold;\">if</span></code>, <code><span style=\"color:rgb(0,128,0);font-weight:bold;\">elif</span></code> and <code><span style=\"color:rgb(0,128,0);font-weight:bold;\">else</span></code> keywords can be used to run different lines of code depending on the truth value of some given condition(s).</li>\n",
    "</ul>\n",
    "\n",
    "Next week, we will use our knowledge of booleans and logical operations to finalise our discussion of loops.  We introduce the second (and final) kind of loop, <code><span style=\"color:rgb(0,128,0);font-weight:bold;\">while</span></code> loops."
   ]
  }
 ],
 "metadata": {
  "kernelspec": {
   "display_name": "Python 3 (ipykernel)",
   "language": "python",
   "name": "python3"
  },
  "language_info": {
   "codemirror_mode": {
    "name": "ipython",
    "version": 3
   },
   "file_extension": ".py",
   "mimetype": "text/x-python",
   "name": "python",
   "nbconvert_exporter": "python",
   "pygments_lexer": "ipython3",
   "version": "3.11.9"
  }
 },
 "nbformat": 4,
 "nbformat_minor": 4
}
